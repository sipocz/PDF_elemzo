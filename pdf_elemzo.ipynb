{
  "nbformat": 4,
  "nbformat_minor": 0,
  "metadata": {
    "colab": {
      "provenance": [],
      "authorship_tag": "ABX9TyNNOpLOhfKOCh3n1xxrMo3X",
      "include_colab_link": true
    },
    "kernelspec": {
      "name": "python3",
      "display_name": "Python 3"
    },
    "language_info": {
      "name": "python"
    }
  },
  "cells": [
    {
      "cell_type": "markdown",
      "metadata": {
        "id": "view-in-github",
        "colab_type": "text"
      },
      "source": [
        "<a href=\"https://colab.research.google.com/github/sipocz/PDF_elemzo/blob/main/pdf_elemzo.ipynb\" target=\"_parent\"><img src=\"https://colab.research.google.com/assets/colab-badge.svg\" alt=\"Open In Colab\"/></a>"
      ]
    },
    {
      "cell_type": "code",
      "source": [],
      "metadata": {
        "id": "fqRfNpxOu0zY"
      },
      "execution_count": null,
      "outputs": []
    },
    {
      "cell_type": "code",
      "source": [
        "def searchfiles( extension='.ttf', folder='C:\\\\') -> list:\n",
        "    import datetime\n",
        "    import os\n",
        "    \"\"\"\n",
        "    ***************************\n",
        "    Listát készít egy adott könyvtárban lévő megadott kiterjesztésű fájlokból rekurzívan.\n",
        "    A listát adja vissza\n",
        "    ***************************\n",
        "\n",
        "    :param extension:       ezeket a fájlokat keresi\n",
        "    :param folder:          ebben a könyvtárban keres\n",
        "\n",
        "    :return: a fájlok listába gyűjtve\n",
        "    \"\"\"\n",
        "    __DEBUG__=False\n",
        "    out_list=[]\n",
        "\n",
        "    for r, d, f in os.walk(folder):\n",
        "        for file in f:\n",
        "            if file.endswith(extension):\n",
        "                # print(r+file)\n",
        "                fname = r + \"/\" + file\n",
        "\n",
        "                # print(fileTimeStamp)\n",
        "                if __DEBUG__:\n",
        "                    print(f\"{fname}\\n\")\n",
        "                out_list.append(fname)\n",
        "    return out_list"
      ],
      "metadata": {
        "id": "swyLlZwMutOs"
      },
      "execution_count": 1,
      "outputs": []
    },
    {
      "cell_type": "code",
      "source": [
        "!pip install PyMuPDF\n",
        "!pip install fitz"
      ],
      "metadata": {
        "colab": {
          "base_uri": "https://localhost:8080/"
        },
        "id": "Ty_RvjDcqfSg",
        "outputId": "ceeaab2f-ba21-4f63-c96e-b35fb7041f92"
      },
      "execution_count": 2,
      "outputs": [
        {
          "output_type": "stream",
          "name": "stdout",
          "text": [
            "Requirement already satisfied: PyMuPDF in /usr/local/lib/python3.10/dist-packages (1.23.6)\n",
            "Requirement already satisfied: PyMuPDFb==1.23.6 in /usr/local/lib/python3.10/dist-packages (from PyMuPDF) (1.23.6)\n",
            "Requirement already satisfied: fitz in /usr/local/lib/python3.10/dist-packages (0.0.1.dev2)\n",
            "Requirement already satisfied: configobj in /usr/local/lib/python3.10/dist-packages (from fitz) (5.0.8)\n",
            "Requirement already satisfied: configparser in /usr/local/lib/python3.10/dist-packages (from fitz) (6.0.0)\n",
            "Requirement already satisfied: httplib2 in /usr/local/lib/python3.10/dist-packages (from fitz) (0.22.0)\n",
            "Requirement already satisfied: nibabel in /usr/local/lib/python3.10/dist-packages (from fitz) (4.0.2)\n",
            "Requirement already satisfied: nipype in /usr/local/lib/python3.10/dist-packages (from fitz) (1.8.6)\n",
            "Requirement already satisfied: numpy in /usr/local/lib/python3.10/dist-packages (from fitz) (1.23.5)\n",
            "Requirement already satisfied: pandas in /usr/local/lib/python3.10/dist-packages (from fitz) (1.5.3)\n",
            "Requirement already satisfied: pyxnat in /usr/local/lib/python3.10/dist-packages (from fitz) (1.6)\n",
            "Requirement already satisfied: scipy in /usr/local/lib/python3.10/dist-packages (from fitz) (1.11.3)\n",
            "Requirement already satisfied: six in /usr/local/lib/python3.10/dist-packages (from configobj->fitz) (1.16.0)\n",
            "Requirement already satisfied: pyparsing!=3.0.0,!=3.0.1,!=3.0.2,!=3.0.3,<4,>=2.4.2 in /usr/local/lib/python3.10/dist-packages (from httplib2->fitz) (3.1.1)\n",
            "Requirement already satisfied: packaging>=17.0 in /usr/local/lib/python3.10/dist-packages (from nibabel->fitz) (23.2)\n",
            "Requirement already satisfied: setuptools in /usr/local/lib/python3.10/dist-packages (from nibabel->fitz) (67.7.2)\n",
            "Requirement already satisfied: click>=6.6.0 in /usr/local/lib/python3.10/dist-packages (from nipype->fitz) (8.1.7)\n",
            "Requirement already satisfied: networkx>=2.0 in /usr/local/lib/python3.10/dist-packages (from nipype->fitz) (3.2.1)\n",
            "Requirement already satisfied: prov>=1.5.2 in /usr/local/lib/python3.10/dist-packages (from nipype->fitz) (2.0.0)\n",
            "Requirement already satisfied: pydot>=1.2.3 in /usr/local/lib/python3.10/dist-packages (from nipype->fitz) (1.4.2)\n",
            "Requirement already satisfied: python-dateutil>=2.2 in /usr/local/lib/python3.10/dist-packages (from nipype->fitz) (2.8.2)\n",
            "Requirement already satisfied: rdflib>=5.0.0 in /usr/local/lib/python3.10/dist-packages (from nipype->fitz) (7.0.0)\n",
            "Requirement already satisfied: simplejson>=3.8.0 in /usr/local/lib/python3.10/dist-packages (from nipype->fitz) (3.19.2)\n",
            "Requirement already satisfied: traits!=5.0,<6.4,>=4.6 in /usr/local/lib/python3.10/dist-packages (from nipype->fitz) (6.3.2)\n",
            "Requirement already satisfied: filelock>=3.0.0 in /usr/local/lib/python3.10/dist-packages (from nipype->fitz) (3.13.1)\n",
            "Requirement already satisfied: etelemetry>=0.2.0 in /usr/local/lib/python3.10/dist-packages (from nipype->fitz) (0.3.1)\n",
            "Requirement already satisfied: looseversion in /usr/local/lib/python3.10/dist-packages (from nipype->fitz) (1.3.0)\n",
            "Requirement already satisfied: pytz>=2020.1 in /usr/local/lib/python3.10/dist-packages (from pandas->fitz) (2023.3.post1)\n",
            "Requirement already satisfied: future>=0.16 in /usr/local/lib/python3.10/dist-packages (from pyxnat->fitz) (0.18.3)\n",
            "Requirement already satisfied: lxml>=4.3 in /usr/local/lib/python3.10/dist-packages (from pyxnat->fitz) (4.9.3)\n",
            "Requirement already satisfied: pathlib>=1.0 in /usr/local/lib/python3.10/dist-packages (from pyxnat->fitz) (1.0.1)\n",
            "Requirement already satisfied: requests>=2.20 in /usr/local/lib/python3.10/dist-packages (from pyxnat->fitz) (2.31.0)\n",
            "Requirement already satisfied: ci-info>=0.2 in /usr/local/lib/python3.10/dist-packages (from etelemetry>=0.2.0->nipype->fitz) (0.3.0)\n",
            "Requirement already satisfied: isodate<0.7.0,>=0.6.0 in /usr/local/lib/python3.10/dist-packages (from rdflib>=5.0.0->nipype->fitz) (0.6.1)\n",
            "Requirement already satisfied: charset-normalizer<4,>=2 in /usr/local/lib/python3.10/dist-packages (from requests>=2.20->pyxnat->fitz) (3.3.2)\n",
            "Requirement already satisfied: idna<4,>=2.5 in /usr/local/lib/python3.10/dist-packages (from requests>=2.20->pyxnat->fitz) (3.4)\n",
            "Requirement already satisfied: urllib3<3,>=1.21.1 in /usr/local/lib/python3.10/dist-packages (from requests>=2.20->pyxnat->fitz) (2.0.7)\n",
            "Requirement already satisfied: certifi>=2017.4.17 in /usr/local/lib/python3.10/dist-packages (from requests>=2.20->pyxnat->fitz) (2023.7.22)\n"
          ]
        }
      ]
    },
    {
      "cell_type": "code",
      "source": [],
      "metadata": {
        "id": "9slCNRS7rT5D"
      },
      "execution_count": 2,
      "outputs": []
    },
    {
      "cell_type": "code",
      "source": [
        "import fitz as pymupdf\n"
      ],
      "metadata": {
        "id": "aE3650bUoPc1"
      },
      "execution_count": 3,
      "outputs": []
    },
    {
      "cell_type": "code",
      "source": [
        "__source__=\"google\""
      ],
      "metadata": {
        "id": "enshe5vWn5rp"
      },
      "execution_count": 4,
      "outputs": []
    },
    {
      "cell_type": "code",
      "execution_count": 5,
      "metadata": {
        "colab": {
          "base_uri": "https://localhost:8080/"
        },
        "id": "pYuzEnAQnoh4",
        "outputId": "52c9ace2-3781-4cc6-9bf3-386aeaa4d6b5"
      },
      "outputs": [
        {
          "output_type": "stream",
          "name": "stdout",
          "text": [
            "Mounted at /content/gdrive\n"
          ]
        }
      ],
      "source": [
        "if __source__==\"google\":\n",
        "    from google.colab import drive\n",
        "    drive.mount('/content/gdrive', force_remount=True)\n",
        "    fnamedir=\"/content/gdrive/MyDrive/PDF_elemzo\"\n",
        "\n",
        "else:\n",
        "    fname=\"./train.csv\"\n",
        "    fname_test=\"./test.csv\"\n",
        "    fname_result=\"./result.csv\""
      ]
    },
    {
      "cell_type": "code",
      "source": [
        "pdf_files=searchfiles(\".pdf\",fnamedir)"
      ],
      "metadata": {
        "id": "4aXzj1Y3xHbr"
      },
      "execution_count": 6,
      "outputs": []
    },
    {
      "cell_type": "code",
      "source": [
        "len(pdf_files)"
      ],
      "metadata": {
        "colab": {
          "base_uri": "https://localhost:8080/"
        },
        "id": "Q8s1ukPNzPzM",
        "outputId": "9679a8d6-06e2-48fb-a574-352e1fc6a8ab"
      },
      "execution_count": 7,
      "outputs": [
        {
          "output_type": "execute_result",
          "data": {
            "text/plain": [
              "860"
            ]
          },
          "metadata": {},
          "execution_count": 7
        }
      ]
    },
    {
      "cell_type": "code",
      "source": [
        "fname=fnamedir+\"/\"+\"NOR_ALL_EVENT_2020010206.pdf\""
      ],
      "metadata": {
        "id": "BbtiAkvrpMXj"
      },
      "execution_count": 8,
      "outputs": []
    },
    {
      "cell_type": "code",
      "source": [],
      "metadata": {
        "id": "TuX0yi0Pppwb"
      },
      "execution_count": 8,
      "outputs": []
    },
    {
      "cell_type": "code",
      "source": [
        "def read_a_pdf(fname):\n",
        "    text=\"\"\n",
        "    doc = pymupdf.open(fname)\n",
        "    for page in doc:\n",
        "        text = text+page.get_text()\n",
        "    return(text)\n",
        "\n"
      ],
      "metadata": {
        "id": "sFtQ3D_XsXJ-"
      },
      "execution_count": 9,
      "outputs": []
    },
    {
      "cell_type": "code",
      "source": [],
      "metadata": {
        "id": "PkV7b0MZsi5Z"
      },
      "execution_count": 9,
      "outputs": []
    },
    {
      "cell_type": "code",
      "source": [
        "text"
      ],
      "metadata": {
        "id": "q9VvqMhBt3og"
      },
      "execution_count": 9,
      "outputs": []
    },
    {
      "cell_type": "code",
      "source": [
        "def find_tag(fname_list:list,tag:str):\n",
        "    fname_list.sort()\n",
        "    for fname in fname_list:\n",
        "        text=read_a_pdf(fname)\n",
        "        if text.find(tag)!=-1:\n",
        "            print(fname)\n",
        "        else:\n",
        "            print(\"nincs:\", fname)\n",
        "\n",
        "\n"
      ],
      "metadata": {
        "id": "ucOvKKGQ0c-y"
      },
      "execution_count": 13,
      "outputs": []
    },
    {
      "cell_type": "code",
      "source": [
        "find_tag(pdf_files,\"KSVG0261\")"
      ],
      "metadata": {
        "colab": {
          "base_uri": "https://localhost:8080/"
        },
        "id": "ZRAoiKqx1x_J",
        "outputId": "973e742a-ebb6-4320-cb05-9cd008aec566"
      },
      "execution_count": null,
      "outputs": [
        {
          "output_type": "stream",
          "name": "stdout",
          "text": [
            "nincs: /content/gdrive/MyDrive/PDF_elemzo/NOR_ALL_EVENT_2019021113_hmm.pdf\n",
            "nincs: /content/gdrive/MyDrive/PDF_elemzo/NOR_ALL_EVENT_2019021114.pdf\n",
            "nincs: /content/gdrive/MyDrive/PDF_elemzo/NOR_ALL_EVENT_2019021122.pdf\n",
            "nincs: /content/gdrive/MyDrive/PDF_elemzo/NOR_ALL_EVENT_2019021206.pdf\n",
            "nincs: /content/gdrive/MyDrive/PDF_elemzo/NOR_ALL_EVENT_2019021214.pdf\n",
            "nincs: /content/gdrive/MyDrive/PDF_elemzo/NOR_ALL_EVENT_2019021222.pdf\n",
            "nincs: /content/gdrive/MyDrive/PDF_elemzo/NOR_ALL_EVENT_2019021306.pdf\n",
            "nincs: /content/gdrive/MyDrive/PDF_elemzo/NOR_ALL_EVENT_2019021314.pdf\n",
            "nincs: /content/gdrive/MyDrive/PDF_elemzo/NOR_ALL_EVENT_2019021322.pdf\n",
            "nincs: /content/gdrive/MyDrive/PDF_elemzo/NOR_ALL_EVENT_2019021406.pdf\n",
            "nincs: /content/gdrive/MyDrive/PDF_elemzo/NOR_ALL_EVENT_2019021414.pdf\n",
            "nincs: /content/gdrive/MyDrive/PDF_elemzo/NOR_ALL_EVENT_2019021422.pdf\n",
            "nincs: /content/gdrive/MyDrive/PDF_elemzo/NOR_ALL_EVENT_2019021506.pdf\n",
            "nincs: /content/gdrive/MyDrive/PDF_elemzo/NOR_ALL_EVENT_2019021514.pdf\n",
            "nincs: /content/gdrive/MyDrive/PDF_elemzo/NOR_ALL_EVENT_2019021522.pdf\n",
            "nincs: /content/gdrive/MyDrive/PDF_elemzo/NOR_ALL_EVENT_2019021606.pdf\n",
            "nincs: /content/gdrive/MyDrive/PDF_elemzo/NOR_ALL_EVENT_2019021614.pdf\n",
            "nincs: /content/gdrive/MyDrive/PDF_elemzo/NOR_ALL_EVENT_2019021622.pdf\n",
            "nincs: /content/gdrive/MyDrive/PDF_elemzo/NOR_ALL_EVENT_2019021706.pdf\n",
            "nincs: /content/gdrive/MyDrive/PDF_elemzo/NOR_ALL_EVENT_2019021714.pdf\n",
            "nincs: /content/gdrive/MyDrive/PDF_elemzo/NOR_ALL_EVENT_2019021722.pdf\n",
            "nincs: /content/gdrive/MyDrive/PDF_elemzo/NOR_ALL_EVENT_2019021806.pdf\n",
            "nincs: /content/gdrive/MyDrive/PDF_elemzo/NOR_ALL_EVENT_2019021814.pdf\n",
            "nincs: /content/gdrive/MyDrive/PDF_elemzo/NOR_ALL_EVENT_2019021822.pdf\n",
            "nincs: /content/gdrive/MyDrive/PDF_elemzo/NOR_ALL_EVENT_2019021906.pdf\n",
            "nincs: /content/gdrive/MyDrive/PDF_elemzo/NOR_ALL_EVENT_2019021914.pdf\n",
            "nincs: /content/gdrive/MyDrive/PDF_elemzo/NOR_ALL_EVENT_2019021922.pdf\n",
            "nincs: /content/gdrive/MyDrive/PDF_elemzo/NOR_ALL_EVENT_2019022006.pdf\n",
            "nincs: /content/gdrive/MyDrive/PDF_elemzo/NOR_ALL_EVENT_2019022014.pdf\n",
            "nincs: /content/gdrive/MyDrive/PDF_elemzo/NOR_ALL_EVENT_2019022022.pdf\n",
            "nincs: /content/gdrive/MyDrive/PDF_elemzo/NOR_ALL_EVENT_2019022106.pdf\n",
            "nincs: /content/gdrive/MyDrive/PDF_elemzo/NOR_ALL_EVENT_2019022114.pdf\n",
            "nincs: /content/gdrive/MyDrive/PDF_elemzo/NOR_ALL_EVENT_2019022122.pdf\n",
            "nincs: /content/gdrive/MyDrive/PDF_elemzo/NOR_ALL_EVENT_2019022206.pdf\n",
            "nincs: /content/gdrive/MyDrive/PDF_elemzo/NOR_ALL_EVENT_2019022214.pdf\n",
            "nincs: /content/gdrive/MyDrive/PDF_elemzo/NOR_ALL_EVENT_2019022222.pdf\n",
            "nincs: /content/gdrive/MyDrive/PDF_elemzo/NOR_ALL_EVENT_2019022306.pdf\n",
            "nincs: /content/gdrive/MyDrive/PDF_elemzo/NOR_ALL_EVENT_2019022314.pdf\n",
            "nincs: /content/gdrive/MyDrive/PDF_elemzo/NOR_ALL_EVENT_2019022322.pdf\n",
            "nincs: /content/gdrive/MyDrive/PDF_elemzo/NOR_ALL_EVENT_2019022406.pdf\n",
            "nincs: /content/gdrive/MyDrive/PDF_elemzo/NOR_ALL_EVENT_2019022414.pdf\n",
            "nincs: /content/gdrive/MyDrive/PDF_elemzo/NOR_ALL_EVENT_2019022422.pdf\n",
            "nincs: /content/gdrive/MyDrive/PDF_elemzo/NOR_ALL_EVENT_2019022506.pdf\n",
            "/content/gdrive/MyDrive/PDF_elemzo/NOR_ALL_EVENT_2019022514.pdf\n",
            "/content/gdrive/MyDrive/PDF_elemzo/NOR_ALL_EVENT_2019022522.pdf\n",
            "nincs: /content/gdrive/MyDrive/PDF_elemzo/NOR_ALL_EVENT_2019022606.pdf\n",
            "/content/gdrive/MyDrive/PDF_elemzo/NOR_ALL_EVENT_2019022614.pdf\n",
            "nincs: /content/gdrive/MyDrive/PDF_elemzo/NOR_ALL_EVENT_2019022622.pdf\n",
            "/content/gdrive/MyDrive/PDF_elemzo/NOR_ALL_EVENT_2019022706.pdf\n",
            "nincs: /content/gdrive/MyDrive/PDF_elemzo/NOR_ALL_EVENT_2019022714.pdf\n",
            "/content/gdrive/MyDrive/PDF_elemzo/NOR_ALL_EVENT_2019022722.pdf\n",
            "nincs: /content/gdrive/MyDrive/PDF_elemzo/NOR_ALL_EVENT_2019022806.pdf\n",
            "nincs: /content/gdrive/MyDrive/PDF_elemzo/NOR_ALL_EVENT_2019022814.pdf\n",
            "nincs: /content/gdrive/MyDrive/PDF_elemzo/NOR_ALL_EVENT_2019022822.pdf\n",
            "nincs: /content/gdrive/MyDrive/PDF_elemzo/NOR_ALL_EVENT_2019030106.pdf\n",
            "nincs: /content/gdrive/MyDrive/PDF_elemzo/NOR_ALL_EVENT_2019030114.pdf\n",
            "nincs: /content/gdrive/MyDrive/PDF_elemzo/NOR_ALL_EVENT_2019030122.pdf\n",
            "nincs: /content/gdrive/MyDrive/PDF_elemzo/NOR_ALL_EVENT_2019030206.pdf\n",
            "nincs: /content/gdrive/MyDrive/PDF_elemzo/NOR_ALL_EVENT_2019030214.pdf\n",
            "nincs: /content/gdrive/MyDrive/PDF_elemzo/NOR_ALL_EVENT_2019030222.pdf\n",
            "nincs: /content/gdrive/MyDrive/PDF_elemzo/NOR_ALL_EVENT_2019030306.pdf\n",
            "nincs: /content/gdrive/MyDrive/PDF_elemzo/NOR_ALL_EVENT_2019030314.pdf\n",
            "nincs: /content/gdrive/MyDrive/PDF_elemzo/NOR_ALL_EVENT_2019030322.pdf\n",
            "nincs: /content/gdrive/MyDrive/PDF_elemzo/NOR_ALL_EVENT_2019030406.pdf\n",
            "/content/gdrive/MyDrive/PDF_elemzo/NOR_ALL_EVENT_2019030414.pdf\n",
            "nincs: /content/gdrive/MyDrive/PDF_elemzo/NOR_ALL_EVENT_2019030422.pdf\n",
            "/content/gdrive/MyDrive/PDF_elemzo/NOR_ALL_EVENT_2019030506.pdf\n",
            "nincs: /content/gdrive/MyDrive/PDF_elemzo/NOR_ALL_EVENT_2019030514.pdf\n",
            "nincs: /content/gdrive/MyDrive/PDF_elemzo/NOR_ALL_EVENT_2019030522.pdf\n",
            "/content/gdrive/MyDrive/PDF_elemzo/NOR_ALL_EVENT_2019030606.pdf\n"
          ]
        }
      ]
    }
  ]
}