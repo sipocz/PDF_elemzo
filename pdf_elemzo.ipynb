{
  "cells": [
    {
      "cell_type": "markdown",
      "metadata": {
        "id": "view-in-github",
        "colab_type": "text"
      },
      "source": [
        "<a href=\"https://colab.research.google.com/github/sipocz/PDF_elemzo/blob/main/pdf_elemzo.ipynb\" target=\"_parent\"><img src=\"https://colab.research.google.com/assets/colab-badge.svg\" alt=\"Open In Colab\"/></a>"
      ]
    },
    {
      "cell_type": "code",
      "execution_count": 25,
      "metadata": {
        "id": "fqRfNpxOu0zY"
      },
      "outputs": [],
      "source": []
    },
    {
      "cell_type": "code",
      "execution_count": 26,
      "metadata": {
        "id": "swyLlZwMutOs"
      },
      "outputs": [],
      "source": [
        "def searchfiles( extension='.ttf', folder='C:\\\\') -> list:\n",
        "    import datetime\n",
        "    import os\n",
        "    \"\"\"\n",
        "    ***************************\n",
        "    Listát készít egy adott könyvtárban lévő megadott kiterjesztésű fájlokból rekurzívan.\n",
        "    A listát adja vissza\n",
        "    ***************************\n",
        "\n",
        "    :param extension:       ezeket a fájlokat keresi\n",
        "    :param folder:          ebben a könyvtárban keres\n",
        "\n",
        "    :return: a fájlok listába gyűjtve\n",
        "    \"\"\"\n",
        "    __DEBUG__=False\n",
        "    out_list=[]\n",
        "\n",
        "    for r, d, f in os.walk(folder):\n",
        "        for file in f:\n",
        "            if file.endswith(extension):\n",
        "                # print(r+file)\n",
        "                fname = r + \"/\" + file\n",
        "\n",
        "                # print(fileTimeStamp)\n",
        "                if __DEBUG__:\n",
        "                    print(f\"{fname}\\n\")\n",
        "                out_list.append(fname)\n",
        "    return out_list"
      ]
    },
    {
      "cell_type": "code",
      "source": [
        "\n",
        "def list_pdf_files(extension=\".pdf\",folder=\".\"):\n",
        "    import os\n",
        "    all_files = [folder+\"/\"+file for file in os.listdir(folder) if file.endswith(extension)]\n",
        "    return(all_files)\n"
      ],
      "metadata": {
        "id": "aqhd1YFzr5ZB"
      },
      "execution_count": 48,
      "outputs": []
    },
    {
      "cell_type": "code",
      "execution_count": 28,
      "metadata": {
        "id": "dg1nIKPK32EB"
      },
      "outputs": [],
      "source": [
        "#!pip install frontend"
      ]
    },
    {
      "cell_type": "code",
      "execution_count": 29,
      "metadata": {
        "colab": {
          "base_uri": "https://localhost:8080/"
        },
        "id": "vWTDaJ9g4_rb",
        "outputId": "38240299-b422-4c5a-d547-8ddd36974eec"
      },
      "outputs": [
        {
          "output_type": "stream",
          "name": "stdout",
          "text": [
            "Requirement already satisfied: PyPDF2 in /usr/local/lib/python3.10/dist-packages (3.0.1)\n"
          ]
        }
      ],
      "source": [
        "!pip install PyPDF2"
      ]
    },
    {
      "cell_type": "code",
      "execution_count": 30,
      "metadata": {
        "colab": {
          "base_uri": "https://localhost:8080/"
        },
        "id": "FY-P23us_VjP",
        "outputId": "d045c1d8-5f72-4a2d-ef41-ee29d764e531"
      },
      "outputs": [
        {
          "output_type": "stream",
          "name": "stdout",
          "text": [
            "Requirement already satisfied: pdfminer.six in /usr/local/lib/python3.10/dist-packages (20221105)\n",
            "Requirement already satisfied: charset-normalizer>=2.0.0 in /usr/local/lib/python3.10/dist-packages (from pdfminer.six) (3.3.2)\n",
            "Requirement already satisfied: cryptography>=36.0.0 in /usr/local/lib/python3.10/dist-packages (from pdfminer.six) (41.0.5)\n",
            "Requirement already satisfied: cffi>=1.12 in /usr/local/lib/python3.10/dist-packages (from cryptography>=36.0.0->pdfminer.six) (1.16.0)\n",
            "Requirement already satisfied: pycparser in /usr/local/lib/python3.10/dist-packages (from cffi>=1.12->cryptography>=36.0.0->pdfminer.six) (2.21)\n"
          ]
        }
      ],
      "source": [
        "!pip install pdfminer.six"
      ]
    },
    {
      "cell_type": "code",
      "execution_count": 31,
      "metadata": {
        "id": "YSV84r864tu0"
      },
      "outputs": [],
      "source": [
        "import  PyPDF2"
      ]
    },
    {
      "cell_type": "code",
      "execution_count": 31,
      "metadata": {
        "id": "J73Io8ew79Un"
      },
      "outputs": [],
      "source": []
    },
    {
      "cell_type": "code",
      "execution_count": 32,
      "metadata": {
        "id": "rK8kCNEN_owd"
      },
      "outputs": [],
      "source": [
        "def text_extraction(element):\n",
        "    # Extracting the text from the in-line text element\n",
        "    line_text = element.get_text()\n",
        "\n",
        "    # Find the formats of the text\n",
        "    # Initialize the list with all the formats that appeared in the line of text\n",
        "    line_formats = []\n",
        "    for text_line in element:\n",
        "        if isinstance(text_line, LTTextContainer):\n",
        "            # Iterating through each character in the line of text\n",
        "            for character in text_line:\n",
        "                if isinstance(character, LTChar):\n",
        "                    # Append the font name of the character\n",
        "                    line_formats.append(character.fontname)\n",
        "                    # Append the font size of the character\n",
        "                    line_formats.append(character.size)\n",
        "    # Find the unique font sizes and names in the line\n",
        "    format_per_line = list(set(line_formats))\n",
        "\n",
        "    # Return a tuple with the text in each line along with its format\n",
        "    return (line_text, format_per_line)"
      ]
    },
    {
      "cell_type": "code",
      "execution_count": 33,
      "metadata": {
        "id": "enshe5vWn5rp"
      },
      "outputs": [],
      "source": [
        "__source__=\"google\""
      ]
    },
    {
      "cell_type": "code",
      "execution_count": 33,
      "metadata": {
        "id": "2RfTdUB4AYpu"
      },
      "outputs": [],
      "source": []
    },
    {
      "cell_type": "code",
      "execution_count": 35,
      "metadata": {
        "colab": {
          "base_uri": "https://localhost:8080/"
        },
        "id": "pYuzEnAQnoh4",
        "outputId": "67c3fc94-0843-4810-dc20-ee8e8978373e"
      },
      "outputs": [
        {
          "output_type": "stream",
          "name": "stdout",
          "text": [
            "Mounted at /content/gdrive\n"
          ]
        }
      ],
      "source": [
        "if __source__==\"google\":\n",
        "    from google.colab import drive\n",
        "    drive.mount('/content/gdrive', force_remount=True)\n",
        "    fnamedir=\"/content/gdrive/MyDrive/PDF_elemzo\"\n",
        "    found_dir=\"/content/gdrive/MyDrive/PDF_elemzo/Found/\"\n",
        "    not_found_dir=\"/content/gdrive/MyDrive/PDF_elemzo/Not_Found/\"\n",
        "\n",
        "else:\n",
        "    fname=\"./train.csv\"\n",
        "    fname_test=\"./test.csv\"\n",
        "    fname_result=\"./result.csv\""
      ]
    },
    {
      "cell_type": "code",
      "execution_count": 36,
      "metadata": {
        "id": "4aXzj1Y3xHbr"
      },
      "outputs": [],
      "source": [
        "pdf_files=searchfiles(\".pdf\",fnamedir)"
      ]
    },
    {
      "cell_type": "code",
      "source": [
        "pdf_files=list_pdf_files(\".pdf\",fnamedir)"
      ],
      "metadata": {
        "id": "FP9Tr4lk25TM"
      },
      "execution_count": 37,
      "outputs": []
    },
    {
      "cell_type": "code",
      "execution_count": null,
      "metadata": {
        "id": "Q8s1ukPNzPzM"
      },
      "outputs": [],
      "source": [
        "len(pdf_files)"
      ]
    },
    {
      "cell_type": "code",
      "execution_count": null,
      "metadata": {
        "id": "PiKoDVKw-Fbg"
      },
      "outputs": [],
      "source": [
        "def extract_text_from_pdf(pdf_path):\n",
        "    import pdfplumber\n",
        "    text = \"\"\n",
        "    with pdfplumber.open(pdf_path) as pdf:\n",
        "        for page in pdf.pages:\n",
        "            text += page.extract_text()\n",
        "    return text"
      ]
    },
    {
      "cell_type": "code",
      "execution_count": null,
      "metadata": {
        "id": "sFtQ3D_XsXJ-"
      },
      "outputs": [],
      "source": [
        "def read_a_pdf(fname):\n",
        "    text=\"\"\n",
        "    doc = extract_text_from_pdf(fname)\n",
        "\n",
        "    return(doc)\n",
        "\n"
      ]
    },
    {
      "cell_type": "code",
      "execution_count": null,
      "metadata": {
        "id": "PkV7b0MZsi5Z"
      },
      "outputs": [],
      "source": []
    },
    {
      "cell_type": "code",
      "execution_count": null,
      "metadata": {
        "id": "q9VvqMhBt3og"
      },
      "outputs": [],
      "source": []
    },
    {
      "cell_type": "code",
      "execution_count": null,
      "metadata": {
        "id": "F_eC4f7W6hAP"
      },
      "outputs": [],
      "source": [
        "!pip install pymupdf"
      ]
    },
    {
      "cell_type": "code",
      "source": [
        "import fitz"
      ],
      "metadata": {
        "id": "9Xxaub_PZu-4"
      },
      "execution_count": null,
      "outputs": []
    },
    {
      "cell_type": "code",
      "source": [
        "def extract_text_from_pdf(pdf_path):\n",
        "    text = \"\"\n",
        "    doc = fitz.open(pdf_path)\n",
        "    for page_num in range(doc.page_count):\n",
        "        page = doc[page_num]\n",
        "        text += page.get_text()\n",
        "    return text\n"
      ],
      "metadata": {
        "id": "4IFhX9WoZ19H"
      },
      "execution_count": null,
      "outputs": []
    },
    {
      "cell_type": "code",
      "source": [
        "import shutil"
      ],
      "metadata": {
        "id": "0DM5uWd3igCx"
      },
      "execution_count": null,
      "outputs": []
    },
    {
      "cell_type": "code",
      "execution_count": 41,
      "metadata": {
        "id": "ucOvKKGQ0c-y"
      },
      "outputs": [],
      "source": [
        "def find_tag(fname_list:list,tag:str):\n",
        "    fname_list.sort(reverse=True)\n",
        "    for fname in fname_list:\n",
        "        text=extract_text_from_pdf(fname)\n",
        "\n",
        "        if text.find(tag)!=-1:\n",
        "            print(fname)\n",
        "            #shutil.move(fname,found_dir,)\n",
        "        else:\n",
        "            print(\"nincs:\", fname)\n",
        "            #shutil.move(fname,not_found_dir)\n",
        "\n",
        "\n"
      ]
    },
    {
      "cell_type": "code",
      "source": [
        "found_dir"
      ],
      "metadata": {
        "colab": {
          "base_uri": "https://localhost:8080/",
          "height": 36
        },
        "id": "KRWMaSRCUhll",
        "outputId": "5c04fac6-d786-4257-8c41-5bb3240a52aa"
      },
      "execution_count": 45,
      "outputs": [
        {
          "output_type": "execute_result",
          "data": {
            "text/plain": [
              "'/content/gdrive/MyDrive/PDF_elemzo/Found/'"
            ],
            "application/vnd.google.colaboratory.intrinsic+json": {
              "type": "string"
            }
          },
          "metadata": {},
          "execution_count": 45
        }
      ]
    },
    {
      "cell_type": "code",
      "source": [
        "pdf_files=list_pdf_files(\"pdf\",found_dir)"
      ],
      "metadata": {
        "id": "3-lD4c5Xo_Pm"
      },
      "execution_count": 51,
      "outputs": []
    },
    {
      "cell_type": "code",
      "source": [
        "pdf_files"
      ],
      "metadata": {
        "colab": {
          "base_uri": "https://localhost:8080/"
        },
        "id": "5Pw5XEwRUZRd",
        "outputId": "20f0f7c2-f082-4286-c72a-a35cc4387533"
      },
      "execution_count": 52,
      "outputs": [
        {
          "output_type": "execute_result",
          "data": {
            "text/plain": [
              "['/content/gdrive/MyDrive/PDF_elemzo/Found//NOR_ALL_EVENT_2019031414.pdf',\n",
              " '/content/gdrive/MyDrive/PDF_elemzo/Found//NOR_ALL_EVENT_2019032106.pdf',\n",
              " '/content/gdrive/MyDrive/PDF_elemzo/Found//NOR_ALL_EVENT_2019032206.pdf',\n",
              " '/content/gdrive/MyDrive/PDF_elemzo/Found//NOR_ALL_EVENT_2019032622.pdf',\n",
              " '/content/gdrive/MyDrive/PDF_elemzo/Found//NOR_ALL_EVENT_2019032906.pdf',\n",
              " '/content/gdrive/MyDrive/PDF_elemzo/Found//NOR_ALL_EVENT_2019040122.pdf',\n",
              " '/content/gdrive/MyDrive/PDF_elemzo/Found//NOR_ALL_EVENT_2019040322.pdf',\n",
              " '/content/gdrive/MyDrive/PDF_elemzo/Found//NOR_ALL_EVENT_2019040522.pdf',\n",
              " '/content/gdrive/MyDrive/PDF_elemzo/Found//NOR_ALL_EVENT_2019040914.pdf',\n",
              " '/content/gdrive/MyDrive/PDF_elemzo/Found//NOR_ALL_EVENT_2019041014.pdf',\n",
              " '/content/gdrive/MyDrive/PDF_elemzo/Found//NOR_ALL_EVENT_2019041022.pdf',\n",
              " '/content/gdrive/MyDrive/PDF_elemzo/Found//NOR_ALL_EVENT_2019041814.pdf',\n",
              " '/content/gdrive/MyDrive/PDF_elemzo/Found//NOR_ALL_EVENT_2019052106.pdf',\n",
              " '/content/gdrive/MyDrive/PDF_elemzo/Found//NOR_ALL_EVENT_2019052206.pdf',\n",
              " '/content/gdrive/MyDrive/PDF_elemzo/Found//NOR_ALL_EVENT_2020111914.pdf',\n",
              " '/content/gdrive/MyDrive/PDF_elemzo/Found//NOR_ALL_EVENT_2020112514.pdf',\n",
              " '/content/gdrive/MyDrive/PDF_elemzo/Found//NOR_ALL_EVENT_2020112522.pdf',\n",
              " '/content/gdrive/MyDrive/PDF_elemzo/Found//NOR_ALL_EVENT_2020112714.pdf',\n",
              " '/content/gdrive/MyDrive/PDF_elemzo/Found//NOR_ALL_EVENT_2020112722.pdf',\n",
              " '/content/gdrive/MyDrive/PDF_elemzo/Found//NOR_ALL_EVENT_2020112922.pdf',\n",
              " '/content/gdrive/MyDrive/PDF_elemzo/Found//NOR_ALL_EVENT_2020120114.pdf',\n",
              " '/content/gdrive/MyDrive/PDF_elemzo/Found//NOR_ALL_EVENT_2020120322.pdf',\n",
              " '/content/gdrive/MyDrive/PDF_elemzo/Found//NOR_ALL_EVENT_2020120522.pdf',\n",
              " '/content/gdrive/MyDrive/PDF_elemzo/Found//NOR_ALL_EVENT_2020120714.pdf',\n",
              " '/content/gdrive/MyDrive/PDF_elemzo/Found//NOR_ALL_EVENT_2021020122.pdf',\n",
              " '/content/gdrive/MyDrive/PDF_elemzo/Found//NOR_ALL_EVENT_2021020214.pdf',\n",
              " '/content/gdrive/MyDrive/PDF_elemzo/Found//NOR_ALL_EVENT_2021032314.pdf',\n",
              " '/content/gdrive/MyDrive/PDF_elemzo/Found//NOR_ALL_EVENT_2021032422.pdf',\n",
              " '/content/gdrive/MyDrive/PDF_elemzo/Found//NOR_ALL_EVENT_2021050122.pdf',\n",
              " '/content/gdrive/MyDrive/PDF_elemzo/Found//NOR_ALL_EVENT_2021050406.pdf',\n",
              " '/content/gdrive/MyDrive/PDF_elemzo/Found//NOR_ALL_EVENT_2021050506.pdf',\n",
              " '/content/gdrive/MyDrive/PDF_elemzo/Found//NOR_ALL_EVENT_2021050514.pdf',\n",
              " '/content/gdrive/MyDrive/PDF_elemzo/Found//NOR_ALL_EVENT_2021050522.pdf',\n",
              " '/content/gdrive/MyDrive/PDF_elemzo/Found//NOR_ALL_EVENT_2021050606.pdf',\n",
              " '/content/gdrive/MyDrive/PDF_elemzo/Found//NOR_ALL_EVENT_2019053014.pdf',\n",
              " '/content/gdrive/MyDrive/PDF_elemzo/Found//NOR_ALL_EVENT_2019090622.pdf',\n",
              " '/content/gdrive/MyDrive/PDF_elemzo/Found//NOR_ALL_EVENT_2019091006.pdf',\n",
              " '/content/gdrive/MyDrive/PDF_elemzo/Found//NOR_ALL_EVENT_2019103014.pdf',\n",
              " '/content/gdrive/MyDrive/PDF_elemzo/Found//NOR_ALL_EVENT_2019110806.pdf',\n",
              " '/content/gdrive/MyDrive/PDF_elemzo/Found//NOR_ALL_EVENT_2019110822.pdf',\n",
              " '/content/gdrive/MyDrive/PDF_elemzo/Found//NOR_ALL_EVENT_2020010706.pdf',\n",
              " '/content/gdrive/MyDrive/PDF_elemzo/Found//NOR_ALL_EVENT_2020010714.pdf',\n",
              " '/content/gdrive/MyDrive/PDF_elemzo/Found//NOR_ALL_EVENT_2020010806.pdf',\n",
              " '/content/gdrive/MyDrive/PDF_elemzo/Found//NOR_ALL_EVENT_2020010814.pdf',\n",
              " '/content/gdrive/MyDrive/PDF_elemzo/Found//NOR_ALL_EVENT_2020010906.pdf',\n",
              " '/content/gdrive/MyDrive/PDF_elemzo/Found//NOR_ALL_EVENT_2020012714.pdf',\n",
              " '/content/gdrive/MyDrive/PDF_elemzo/Found//NOR_ALL_EVENT_2020021322.pdf',\n",
              " '/content/gdrive/MyDrive/PDF_elemzo/Found//NOR_ALL_EVENT_2020022314.pdf',\n",
              " '/content/gdrive/MyDrive/PDF_elemzo/Found//NOR_ALL_EVENT_2020022406.pdf',\n",
              " '/content/gdrive/MyDrive/PDF_elemzo/Found//NOR_ALL_EVENT_2020022922.pdf',\n",
              " '/content/gdrive/MyDrive/PDF_elemzo/Found//NOR_ALL_EVENT_2020030414.pdf',\n",
              " '/content/gdrive/MyDrive/PDF_elemzo/Found//NOR_ALL_EVENT_2020030814.pdf',\n",
              " '/content/gdrive/MyDrive/PDF_elemzo/Found//NOR_ALL_EVENT_2020031222.pdf',\n",
              " '/content/gdrive/MyDrive/PDF_elemzo/Found//NOR_ALL_EVENT_2020031322.pdf',\n",
              " '/content/gdrive/MyDrive/PDF_elemzo/Found//NOR_ALL_EVENT_2020031406.pdf',\n",
              " '/content/gdrive/MyDrive/PDF_elemzo/Found//NOR_ALL_EVENT_2020070214.pdf',\n",
              " '/content/gdrive/MyDrive/PDF_elemzo/Found//NOR_ALL_EVENT_2020070822.pdf',\n",
              " '/content/gdrive/MyDrive/PDF_elemzo/Found//NOR_ALL_EVENT_2022083006.pdf',\n",
              " '/content/gdrive/MyDrive/PDF_elemzo/Found//NOR_ALL_EVENT_2022083014.pdf',\n",
              " '/content/gdrive/MyDrive/PDF_elemzo/Found//NOR_ALL_EVENT_2022090106.pdf',\n",
              " '/content/gdrive/MyDrive/PDF_elemzo/Found//NOR_ALL_EVENT_2022090122.pdf',\n",
              " '/content/gdrive/MyDrive/PDF_elemzo/Found//NOR_ALL_EVENT_2022112614.pdf',\n",
              " '/content/gdrive/MyDrive/PDF_elemzo/Found//NOR_ALL_EVENT_2022120314.pdf',\n",
              " '/content/gdrive/MyDrive/PDF_elemzo/Found//NOR_ALL_EVENT_2023012522.pdf',\n",
              " '/content/gdrive/MyDrive/PDF_elemzo/Found//NOR_ALL_EVENT_2023012722.pdf',\n",
              " '/content/gdrive/MyDrive/PDF_elemzo/Found//NOR_ALL_EVENT_2023012922.pdf',\n",
              " '/content/gdrive/MyDrive/PDF_elemzo/Found//NOR_ALL_EVENT_2023013114.pdf',\n",
              " '/content/gdrive/MyDrive/PDF_elemzo/Found//NOR_ALL_EVENT_2023020222.pdf',\n",
              " '/content/gdrive/MyDrive/PDF_elemzo/Found//NOR_ALL_EVENT_2023020806.pdf',\n",
              " '/content/gdrive/MyDrive/PDF_elemzo/Found//NOR_ALL_EVENT_2023020914.pdf',\n",
              " '/content/gdrive/MyDrive/PDF_elemzo/Found//NOR_ALL_EVENT_2023020922.pdf',\n",
              " '/content/gdrive/MyDrive/PDF_elemzo/Found//NOR_ALL_EVENT_2023021622.pdf',\n",
              " '/content/gdrive/MyDrive/PDF_elemzo/Found//NOR_ALL_EVENT_2023022122.pdf',\n",
              " '/content/gdrive/MyDrive/PDF_elemzo/Found//NOR_ALL_EVENT_2023031514.pdf',\n",
              " '/content/gdrive/MyDrive/PDF_elemzo/Found//NOR_ALL_EVENT_2023031522.pdf',\n",
              " '/content/gdrive/MyDrive/PDF_elemzo/Found//NOR_ALL_EVENT_2023100406.pdf',\n",
              " '/content/gdrive/MyDrive/PDF_elemzo/Found//NOR_ALL_EVENT_2023111614.pdf',\n",
              " '/content/gdrive/MyDrive/PDF_elemzo/Found//NOR_ALL_EVENT_2023111714.pdf',\n",
              " '/content/gdrive/MyDrive/PDF_elemzo/Found//NOR_ALL_EVENT_2023112106.pdf',\n",
              " '/content/gdrive/MyDrive/PDF_elemzo/Found//NOR_ALL_EVENT_2023112214.pdf']"
            ]
          },
          "metadata": {},
          "execution_count": 52
        }
      ]
    },
    {
      "cell_type": "code",
      "execution_count": 53,
      "metadata": {
        "colab": {
          "base_uri": "https://localhost:8080/"
        },
        "id": "ZRAoiKqx1x_J",
        "outputId": "ef9e8bd5-8ad1-43f1-f95d-3fd37c3c759c"
      },
      "outputs": [
        {
          "output_type": "stream",
          "name": "stdout",
          "text": [
            "nincs: /content/gdrive/MyDrive/PDF_elemzo/Found//NOR_ALL_EVENT_2023112214.pdf\n",
            "nincs: /content/gdrive/MyDrive/PDF_elemzo/Found//NOR_ALL_EVENT_2023112106.pdf\n",
            "nincs: /content/gdrive/MyDrive/PDF_elemzo/Found//NOR_ALL_EVENT_2023111714.pdf\n",
            "nincs: /content/gdrive/MyDrive/PDF_elemzo/Found//NOR_ALL_EVENT_2023111614.pdf\n",
            "nincs: /content/gdrive/MyDrive/PDF_elemzo/Found//NOR_ALL_EVENT_2023100406.pdf\n",
            "nincs: /content/gdrive/MyDrive/PDF_elemzo/Found//NOR_ALL_EVENT_2023031522.pdf\n",
            "/content/gdrive/MyDrive/PDF_elemzo/Found//NOR_ALL_EVENT_2023031514.pdf\n",
            "nincs: /content/gdrive/MyDrive/PDF_elemzo/Found//NOR_ALL_EVENT_2023022122.pdf\n",
            "nincs: /content/gdrive/MyDrive/PDF_elemzo/Found//NOR_ALL_EVENT_2023021622.pdf\n",
            "nincs: /content/gdrive/MyDrive/PDF_elemzo/Found//NOR_ALL_EVENT_2023020922.pdf\n",
            "nincs: /content/gdrive/MyDrive/PDF_elemzo/Found//NOR_ALL_EVENT_2023020914.pdf\n",
            "nincs: /content/gdrive/MyDrive/PDF_elemzo/Found//NOR_ALL_EVENT_2023020806.pdf\n",
            "nincs: /content/gdrive/MyDrive/PDF_elemzo/Found//NOR_ALL_EVENT_2023020222.pdf\n",
            "nincs: /content/gdrive/MyDrive/PDF_elemzo/Found//NOR_ALL_EVENT_2023013114.pdf\n",
            "nincs: /content/gdrive/MyDrive/PDF_elemzo/Found//NOR_ALL_EVENT_2023012922.pdf\n",
            "nincs: /content/gdrive/MyDrive/PDF_elemzo/Found//NOR_ALL_EVENT_2023012722.pdf\n",
            "nincs: /content/gdrive/MyDrive/PDF_elemzo/Found//NOR_ALL_EVENT_2023012522.pdf\n",
            "nincs: /content/gdrive/MyDrive/PDF_elemzo/Found//NOR_ALL_EVENT_2022120314.pdf\n",
            "nincs: /content/gdrive/MyDrive/PDF_elemzo/Found//NOR_ALL_EVENT_2022112614.pdf\n",
            "nincs: /content/gdrive/MyDrive/PDF_elemzo/Found//NOR_ALL_EVENT_2022090122.pdf\n",
            "nincs: /content/gdrive/MyDrive/PDF_elemzo/Found//NOR_ALL_EVENT_2022090106.pdf\n",
            "nincs: /content/gdrive/MyDrive/PDF_elemzo/Found//NOR_ALL_EVENT_2022083014.pdf\n",
            "nincs: /content/gdrive/MyDrive/PDF_elemzo/Found//NOR_ALL_EVENT_2022083006.pdf\n",
            "nincs: /content/gdrive/MyDrive/PDF_elemzo/Found//NOR_ALL_EVENT_2021050606.pdf\n",
            "nincs: /content/gdrive/MyDrive/PDF_elemzo/Found//NOR_ALL_EVENT_2021050522.pdf\n",
            "nincs: /content/gdrive/MyDrive/PDF_elemzo/Found//NOR_ALL_EVENT_2021050514.pdf\n",
            "nincs: /content/gdrive/MyDrive/PDF_elemzo/Found//NOR_ALL_EVENT_2021050506.pdf\n",
            "nincs: /content/gdrive/MyDrive/PDF_elemzo/Found//NOR_ALL_EVENT_2021050406.pdf\n",
            "nincs: /content/gdrive/MyDrive/PDF_elemzo/Found//NOR_ALL_EVENT_2021050122.pdf\n",
            "nincs: /content/gdrive/MyDrive/PDF_elemzo/Found//NOR_ALL_EVENT_2021032422.pdf\n",
            "nincs: /content/gdrive/MyDrive/PDF_elemzo/Found//NOR_ALL_EVENT_2021032314.pdf\n",
            "nincs: /content/gdrive/MyDrive/PDF_elemzo/Found//NOR_ALL_EVENT_2021020214.pdf\n",
            "nincs: /content/gdrive/MyDrive/PDF_elemzo/Found//NOR_ALL_EVENT_2021020122.pdf\n",
            "nincs: /content/gdrive/MyDrive/PDF_elemzo/Found//NOR_ALL_EVENT_2020120714.pdf\n",
            "nincs: /content/gdrive/MyDrive/PDF_elemzo/Found//NOR_ALL_EVENT_2020120522.pdf\n",
            "nincs: /content/gdrive/MyDrive/PDF_elemzo/Found//NOR_ALL_EVENT_2020120322.pdf\n",
            "/content/gdrive/MyDrive/PDF_elemzo/Found//NOR_ALL_EVENT_2020120114.pdf\n",
            "nincs: /content/gdrive/MyDrive/PDF_elemzo/Found//NOR_ALL_EVENT_2020112922.pdf\n",
            "nincs: /content/gdrive/MyDrive/PDF_elemzo/Found//NOR_ALL_EVENT_2020112722.pdf\n",
            "nincs: /content/gdrive/MyDrive/PDF_elemzo/Found//NOR_ALL_EVENT_2020112714.pdf\n",
            "nincs: /content/gdrive/MyDrive/PDF_elemzo/Found//NOR_ALL_EVENT_2020112522.pdf\n",
            "nincs: /content/gdrive/MyDrive/PDF_elemzo/Found//NOR_ALL_EVENT_2020112514.pdf\n",
            "nincs: /content/gdrive/MyDrive/PDF_elemzo/Found//NOR_ALL_EVENT_2020111914.pdf\n",
            "/content/gdrive/MyDrive/PDF_elemzo/Found//NOR_ALL_EVENT_2020070822.pdf\n",
            "nincs: /content/gdrive/MyDrive/PDF_elemzo/Found//NOR_ALL_EVENT_2020070214.pdf\n",
            "nincs: /content/gdrive/MyDrive/PDF_elemzo/Found//NOR_ALL_EVENT_2020031406.pdf\n",
            "nincs: /content/gdrive/MyDrive/PDF_elemzo/Found//NOR_ALL_EVENT_2020031322.pdf\n",
            "nincs: /content/gdrive/MyDrive/PDF_elemzo/Found//NOR_ALL_EVENT_2020031222.pdf\n",
            "nincs: /content/gdrive/MyDrive/PDF_elemzo/Found//NOR_ALL_EVENT_2020030814.pdf\n",
            "nincs: /content/gdrive/MyDrive/PDF_elemzo/Found//NOR_ALL_EVENT_2020030414.pdf\n",
            "nincs: /content/gdrive/MyDrive/PDF_elemzo/Found//NOR_ALL_EVENT_2020022922.pdf\n",
            "nincs: /content/gdrive/MyDrive/PDF_elemzo/Found//NOR_ALL_EVENT_2020022406.pdf\n",
            "nincs: /content/gdrive/MyDrive/PDF_elemzo/Found//NOR_ALL_EVENT_2020022314.pdf\n",
            "nincs: /content/gdrive/MyDrive/PDF_elemzo/Found//NOR_ALL_EVENT_2020021322.pdf\n",
            "nincs: /content/gdrive/MyDrive/PDF_elemzo/Found//NOR_ALL_EVENT_2020012714.pdf\n",
            "nincs: /content/gdrive/MyDrive/PDF_elemzo/Found//NOR_ALL_EVENT_2020010906.pdf\n",
            "/content/gdrive/MyDrive/PDF_elemzo/Found//NOR_ALL_EVENT_2020010814.pdf\n",
            "nincs: /content/gdrive/MyDrive/PDF_elemzo/Found//NOR_ALL_EVENT_2020010806.pdf\n",
            "nincs: /content/gdrive/MyDrive/PDF_elemzo/Found//NOR_ALL_EVENT_2020010714.pdf\n",
            "nincs: /content/gdrive/MyDrive/PDF_elemzo/Found//NOR_ALL_EVENT_2020010706.pdf\n",
            "nincs: /content/gdrive/MyDrive/PDF_elemzo/Found//NOR_ALL_EVENT_2019110822.pdf\n",
            "nincs: /content/gdrive/MyDrive/PDF_elemzo/Found//NOR_ALL_EVENT_2019110806.pdf\n",
            "/content/gdrive/MyDrive/PDF_elemzo/Found//NOR_ALL_EVENT_2019103014.pdf\n",
            "nincs: /content/gdrive/MyDrive/PDF_elemzo/Found//NOR_ALL_EVENT_2019091006.pdf\n",
            "nincs: /content/gdrive/MyDrive/PDF_elemzo/Found//NOR_ALL_EVENT_2019090622.pdf\n",
            "nincs: /content/gdrive/MyDrive/PDF_elemzo/Found//NOR_ALL_EVENT_2019053014.pdf\n",
            "nincs: /content/gdrive/MyDrive/PDF_elemzo/Found//NOR_ALL_EVENT_2019052206.pdf\n",
            "nincs: /content/gdrive/MyDrive/PDF_elemzo/Found//NOR_ALL_EVENT_2019052106.pdf\n",
            "/content/gdrive/MyDrive/PDF_elemzo/Found//NOR_ALL_EVENT_2019041814.pdf\n",
            "nincs: /content/gdrive/MyDrive/PDF_elemzo/Found//NOR_ALL_EVENT_2019041022.pdf\n",
            "nincs: /content/gdrive/MyDrive/PDF_elemzo/Found//NOR_ALL_EVENT_2019041014.pdf\n",
            "nincs: /content/gdrive/MyDrive/PDF_elemzo/Found//NOR_ALL_EVENT_2019040914.pdf\n",
            "/content/gdrive/MyDrive/PDF_elemzo/Found//NOR_ALL_EVENT_2019040522.pdf\n",
            "nincs: /content/gdrive/MyDrive/PDF_elemzo/Found//NOR_ALL_EVENT_2019040322.pdf\n",
            "/content/gdrive/MyDrive/PDF_elemzo/Found//NOR_ALL_EVENT_2019040122.pdf\n",
            "/content/gdrive/MyDrive/PDF_elemzo/Found//NOR_ALL_EVENT_2019032906.pdf\n",
            "nincs: /content/gdrive/MyDrive/PDF_elemzo/Found//NOR_ALL_EVENT_2019032622.pdf\n",
            "nincs: /content/gdrive/MyDrive/PDF_elemzo/Found//NOR_ALL_EVENT_2019032206.pdf\n",
            "nincs: /content/gdrive/MyDrive/PDF_elemzo/Found//NOR_ALL_EVENT_2019032106.pdf\n",
            "nincs: /content/gdrive/MyDrive/PDF_elemzo/Found//NOR_ALL_EVENT_2019031414.pdf\n"
          ]
        }
      ],
      "source": [
        "find_tag(pdf_files,\"HSICmd.Inh False -> True\")"
      ]
    }
  ],
  "metadata": {
    "colab": {
      "provenance": [],
      "authorship_tag": "ABX9TyNBuAbwHSjlLMHJg6kW5Shn",
      "include_colab_link": true
    },
    "kernelspec": {
      "display_name": "Python 3",
      "name": "python3"
    },
    "language_info": {
      "name": "python"
    }
  },
  "nbformat": 4,
  "nbformat_minor": 0
}