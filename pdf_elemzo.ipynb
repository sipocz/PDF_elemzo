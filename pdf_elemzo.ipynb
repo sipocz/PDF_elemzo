{
  "nbformat": 4,
  "nbformat_minor": 0,
  "metadata": {
    "colab": {
      "provenance": [],
      "authorship_tag": "ABX9TyMGLihac2amQfHBya8xbonX",
      "include_colab_link": true
    },
    "kernelspec": {
      "name": "python3",
      "display_name": "Python 3"
    },
    "language_info": {
      "name": "python"
    }
  },
  "cells": [
    {
      "cell_type": "markdown",
      "metadata": {
        "id": "view-in-github",
        "colab_type": "text"
      },
      "source": [
        "<a href=\"https://colab.research.google.com/github/sipocz/PDF_elemzo/blob/main/pdf_elemzo.ipynb\" target=\"_parent\"><img src=\"https://colab.research.google.com/assets/colab-badge.svg\" alt=\"Open In Colab\"/></a>"
      ]
    },
    {
      "cell_type": "code",
      "source": [],
      "metadata": {
        "id": "fqRfNpxOu0zY"
      },
      "execution_count": null,
      "outputs": []
    },
    {
      "cell_type": "code",
      "source": [
        "def searchfiles( extension='.ttf', folder='C:\\\\',):\n",
        "    import datetime\n",
        "    import os\n",
        "    \"\"\"\n",
        "    ***************************\n",
        "    Listát készít egy adott könyvtárban lévő megadott kiterjesztésű fájlokból rekurzívan.\n",
        "    A listát eltárolja a outFileName -ban megadott helyre\n",
        "    Csak azokat a fájlokat veszi figyelembe, amelyek kora kisebb mint a megadott idő [sec]\n",
        "    ***************************\n",
        "    :param outFileName:     ide menti a kimeneti listát\n",
        "    :param extension:       ezeket a fájlokat keresi\n",
        "    :param folder:          ebben a könyvtárban keres\n",
        "    :param deltaTime:       ilyen korú, vagy fiatalabb fájlokat keresi [sec]-ben kell megadni!!\n",
        "    :return: ---\n",
        "    \"\"\"\n",
        "    \"Create a txt file with all the file of a type\"\n",
        "    currentDateTimeStamp = datetime.datetime.now().timestamp()\n",
        "    # print (currentDateTimeStamp)\n",
        "\n",
        "    for r, d, f in os.walk(folder):\n",
        "        for file in f:\n",
        "            if file.endswith(extension):\n",
        "                # print(r+file)\n",
        "                fname = r + \"/\" + file\n",
        "\n",
        "                # print(fileTimeStamp)\n",
        "\n",
        "                print(f\"{fname}\\n\")"
      ],
      "metadata": {
        "id": "swyLlZwMutOs"
      },
      "execution_count": 35,
      "outputs": []
    },
    {
      "cell_type": "code",
      "source": [
        "!pip install PyMuPDF\n",
        "!pip install fitz"
      ],
      "metadata": {
        "colab": {
          "base_uri": "https://localhost:8080/"
        },
        "id": "Ty_RvjDcqfSg",
        "outputId": "a9bf0e14-4a5c-4f39-fc38-8518b7d78198"
      },
      "execution_count": 33,
      "outputs": [
        {
          "output_type": "stream",
          "name": "stdout",
          "text": [
            "Requirement already satisfied: PyMuPDF in /usr/local/lib/python3.10/dist-packages (1.23.6)\n",
            "Requirement already satisfied: PyMuPDFb==1.23.6 in /usr/local/lib/python3.10/dist-packages (from PyMuPDF) (1.23.6)\n",
            "Requirement already satisfied: fitz in /usr/local/lib/python3.10/dist-packages (0.0.1.dev2)\n",
            "Requirement already satisfied: configobj in /usr/local/lib/python3.10/dist-packages (from fitz) (5.0.8)\n",
            "Requirement already satisfied: configparser in /usr/local/lib/python3.10/dist-packages (from fitz) (6.0.0)\n",
            "Requirement already satisfied: httplib2 in /usr/local/lib/python3.10/dist-packages (from fitz) (0.22.0)\n",
            "Requirement already satisfied: nibabel in /usr/local/lib/python3.10/dist-packages (from fitz) (4.0.2)\n",
            "Requirement already satisfied: nipype in /usr/local/lib/python3.10/dist-packages (from fitz) (1.8.6)\n",
            "Requirement already satisfied: numpy in /usr/local/lib/python3.10/dist-packages (from fitz) (1.23.5)\n",
            "Requirement already satisfied: pandas in /usr/local/lib/python3.10/dist-packages (from fitz) (1.5.3)\n",
            "Requirement already satisfied: pyxnat in /usr/local/lib/python3.10/dist-packages (from fitz) (1.6)\n",
            "Requirement already satisfied: scipy in /usr/local/lib/python3.10/dist-packages (from fitz) (1.11.3)\n",
            "Requirement already satisfied: six in /usr/local/lib/python3.10/dist-packages (from configobj->fitz) (1.16.0)\n",
            "Requirement already satisfied: pyparsing!=3.0.0,!=3.0.1,!=3.0.2,!=3.0.3,<4,>=2.4.2 in /usr/local/lib/python3.10/dist-packages (from httplib2->fitz) (3.1.1)\n",
            "Requirement already satisfied: packaging>=17.0 in /usr/local/lib/python3.10/dist-packages (from nibabel->fitz) (23.2)\n",
            "Requirement already satisfied: setuptools in /usr/local/lib/python3.10/dist-packages (from nibabel->fitz) (67.7.2)\n",
            "Requirement already satisfied: click>=6.6.0 in /usr/local/lib/python3.10/dist-packages (from nipype->fitz) (8.1.7)\n",
            "Requirement already satisfied: networkx>=2.0 in /usr/local/lib/python3.10/dist-packages (from nipype->fitz) (3.2.1)\n",
            "Requirement already satisfied: prov>=1.5.2 in /usr/local/lib/python3.10/dist-packages (from nipype->fitz) (2.0.0)\n",
            "Requirement already satisfied: pydot>=1.2.3 in /usr/local/lib/python3.10/dist-packages (from nipype->fitz) (1.4.2)\n",
            "Requirement already satisfied: python-dateutil>=2.2 in /usr/local/lib/python3.10/dist-packages (from nipype->fitz) (2.8.2)\n",
            "Requirement already satisfied: rdflib>=5.0.0 in /usr/local/lib/python3.10/dist-packages (from nipype->fitz) (7.0.0)\n",
            "Requirement already satisfied: simplejson>=3.8.0 in /usr/local/lib/python3.10/dist-packages (from nipype->fitz) (3.19.2)\n",
            "Requirement already satisfied: traits!=5.0,<6.4,>=4.6 in /usr/local/lib/python3.10/dist-packages (from nipype->fitz) (6.3.2)\n",
            "Requirement already satisfied: filelock>=3.0.0 in /usr/local/lib/python3.10/dist-packages (from nipype->fitz) (3.13.1)\n",
            "Requirement already satisfied: etelemetry>=0.2.0 in /usr/local/lib/python3.10/dist-packages (from nipype->fitz) (0.3.1)\n",
            "Requirement already satisfied: looseversion in /usr/local/lib/python3.10/dist-packages (from nipype->fitz) (1.3.0)\n",
            "Requirement already satisfied: pytz>=2020.1 in /usr/local/lib/python3.10/dist-packages (from pandas->fitz) (2023.3.post1)\n",
            "Requirement already satisfied: future>=0.16 in /usr/local/lib/python3.10/dist-packages (from pyxnat->fitz) (0.18.3)\n",
            "Requirement already satisfied: lxml>=4.3 in /usr/local/lib/python3.10/dist-packages (from pyxnat->fitz) (4.9.3)\n",
            "Requirement already satisfied: pathlib>=1.0 in /usr/local/lib/python3.10/dist-packages (from pyxnat->fitz) (1.0.1)\n",
            "Requirement already satisfied: requests>=2.20 in /usr/local/lib/python3.10/dist-packages (from pyxnat->fitz) (2.31.0)\n",
            "Requirement already satisfied: ci-info>=0.2 in /usr/local/lib/python3.10/dist-packages (from etelemetry>=0.2.0->nipype->fitz) (0.3.0)\n",
            "Requirement already satisfied: isodate<0.7.0,>=0.6.0 in /usr/local/lib/python3.10/dist-packages (from rdflib>=5.0.0->nipype->fitz) (0.6.1)\n",
            "Requirement already satisfied: charset-normalizer<4,>=2 in /usr/local/lib/python3.10/dist-packages (from requests>=2.20->pyxnat->fitz) (3.3.2)\n",
            "Requirement already satisfied: idna<4,>=2.5 in /usr/local/lib/python3.10/dist-packages (from requests>=2.20->pyxnat->fitz) (3.4)\n",
            "Requirement already satisfied: urllib3<3,>=1.21.1 in /usr/local/lib/python3.10/dist-packages (from requests>=2.20->pyxnat->fitz) (2.0.7)\n",
            "Requirement already satisfied: certifi>=2017.4.17 in /usr/local/lib/python3.10/dist-packages (from requests>=2.20->pyxnat->fitz) (2023.7.22)\n"
          ]
        }
      ]
    },
    {
      "cell_type": "code",
      "source": [],
      "metadata": {
        "colab": {
          "base_uri": "https://localhost:8080/"
        },
        "id": "9slCNRS7rT5D",
        "outputId": "a0422767-c795-4147-cf53-a17c5477a51f"
      },
      "execution_count": 5,
      "outputs": [
        {
          "output_type": "stream",
          "name": "stdout",
          "text": [
            "\u001b[31mERROR: Could not find a version that satisfies the requirement platform (from versions: none)\u001b[0m\u001b[31m\n",
            "\u001b[0m\u001b[31mERROR: No matching distribution found for platform\u001b[0m\u001b[31m\n",
            "\u001b[0m"
          ]
        }
      ]
    },
    {
      "cell_type": "code",
      "source": [
        "import fitz as pymupdf\n"
      ],
      "metadata": {
        "id": "aE3650bUoPc1"
      },
      "execution_count": 8,
      "outputs": []
    },
    {
      "cell_type": "code",
      "source": [
        "__source__=\"google\""
      ],
      "metadata": {
        "id": "enshe5vWn5rp"
      },
      "execution_count": 9,
      "outputs": []
    },
    {
      "cell_type": "code",
      "execution_count": 10,
      "metadata": {
        "colab": {
          "base_uri": "https://localhost:8080/"
        },
        "id": "pYuzEnAQnoh4",
        "outputId": "af6858ad-56b8-46ed-8e1c-c556e64b5695"
      },
      "outputs": [
        {
          "output_type": "stream",
          "name": "stdout",
          "text": [
            "Mounted at /content/gdrive\n"
          ]
        }
      ],
      "source": [
        "if __source__==\"google\":\n",
        "    from google.colab import drive\n",
        "    drive.mount('/content/gdrive', force_remount=True)\n",
        "    fnamedir=\"/content/gdrive/MyDrive/PDF_elemzo\"\n",
        "\n",
        "else:\n",
        "    fname=\"./train.csv\"\n",
        "    fname_test=\"./test.csv\"\n",
        "    fname_result=\"./result.csv\""
      ]
    },
    {
      "cell_type": "code",
      "source": [
        "searchfiles(\".pdf\",fnamedir)"
      ],
      "metadata": {
        "colab": {
          "base_uri": "https://localhost:8080/"
        },
        "id": "4aXzj1Y3xHbr",
        "outputId": "32dd8189-c2b2-4f3d-8686-c4188b58cf49"
      },
      "execution_count": 37,
      "outputs": [
        {
          "output_type": "stream",
          "name": "stdout",
          "text": [
            "/content/gdrive/MyDrive/PDF_elemzo/NOR_ALL_EVENT_2020010206.pdf\n",
            "\n",
            "/content/gdrive/MyDrive/PDF_elemzo/NOR_ALL_EVENT_2019021113_hmm.pdf\n",
            "\n",
            "/content/gdrive/MyDrive/PDF_elemzo/NOR_ALL_EVENT_2019021314.pdf\n",
            "\n",
            "/content/gdrive/MyDrive/PDF_elemzo/NOR_ALL_EVENT_2019021306.pdf\n",
            "\n",
            "/content/gdrive/MyDrive/PDF_elemzo/NOR_ALL_EVENT_2019021222.pdf\n",
            "\n",
            "/content/gdrive/MyDrive/PDF_elemzo/NOR_ALL_EVENT_2019021214.pdf\n",
            "\n",
            "/content/gdrive/MyDrive/PDF_elemzo/NOR_ALL_EVENT_2019021206.pdf\n",
            "\n",
            "/content/gdrive/MyDrive/PDF_elemzo/NOR_ALL_EVENT_2019021122.pdf\n",
            "\n",
            "/content/gdrive/MyDrive/PDF_elemzo/NOR_ALL_EVENT_2019081306.pdf\n",
            "\n",
            "/content/gdrive/MyDrive/PDF_elemzo/NOR_ALL_EVENT_2019081206.pdf\n",
            "\n",
            "/content/gdrive/MyDrive/PDF_elemzo/NOR_ALL_EVENT_2019081214.pdf\n",
            "\n",
            "/content/gdrive/MyDrive/PDF_elemzo/NOR_ALL_EVENT_2019081122.pdf\n",
            "\n",
            "/content/gdrive/MyDrive/PDF_elemzo/NOR_ALL_EVENT_2019021114.pdf\n",
            "\n",
            "/content/gdrive/MyDrive/PDF_elemzo/NOR_ALL_EVENT_2019081106.pdf\n",
            "\n",
            "/content/gdrive/MyDrive/PDF_elemzo/NOR_ALL_EVENT_2019081114.pdf\n",
            "\n",
            "/content/gdrive/MyDrive/PDF_elemzo/NOR_ALL_EVENT_2019080806.pdf\n",
            "\n",
            "/content/gdrive/MyDrive/PDF_elemzo/NOR_ALL_EVENT_2019021522.pdf\n",
            "\n",
            "/content/gdrive/MyDrive/PDF_elemzo/NOR_ALL_EVENT_2019021514.pdf\n",
            "\n",
            "/content/gdrive/MyDrive/PDF_elemzo/NOR_ALL_EVENT_2019021506.pdf\n",
            "\n",
            "/content/gdrive/MyDrive/PDF_elemzo/NOR_ALL_EVENT_2019021422.pdf\n",
            "\n",
            "/content/gdrive/MyDrive/PDF_elemzo/NOR_ALL_EVENT_2019021414.pdf\n",
            "\n",
            "/content/gdrive/MyDrive/PDF_elemzo/NOR_ALL_EVENT_2019021406.pdf\n",
            "\n",
            "/content/gdrive/MyDrive/PDF_elemzo/NOR_ALL_EVENT_2019021322.pdf\n",
            "\n",
            "/content/gdrive/MyDrive/PDF_elemzo/NOR_ALL_EVENT_2019021806.pdf\n",
            "\n",
            "/content/gdrive/MyDrive/PDF_elemzo/NOR_ALL_EVENT_2019021722.pdf\n",
            "\n",
            "/content/gdrive/MyDrive/PDF_elemzo/NOR_ALL_EVENT_2019021714.pdf\n",
            "\n",
            "/content/gdrive/MyDrive/PDF_elemzo/NOR_ALL_EVENT_2019021706.pdf\n",
            "\n",
            "/content/gdrive/MyDrive/PDF_elemzo/NOR_ALL_EVENT_2019021622.pdf\n",
            "\n",
            "/content/gdrive/MyDrive/PDF_elemzo/NOR_ALL_EVENT_2019021614.pdf\n",
            "\n",
            "/content/gdrive/MyDrive/PDF_elemzo/NOR_ALL_EVENT_2019021606.pdf\n",
            "\n",
            "/content/gdrive/MyDrive/PDF_elemzo/NOR_ALL_EVENT_2019022014.pdf\n",
            "\n",
            "/content/gdrive/MyDrive/PDF_elemzo/NOR_ALL_EVENT_2019022006.pdf\n",
            "\n",
            "/content/gdrive/MyDrive/PDF_elemzo/NOR_ALL_EVENT_2019021922.pdf\n",
            "\n",
            "/content/gdrive/MyDrive/PDF_elemzo/NOR_ALL_EVENT_2019021914.pdf\n",
            "\n",
            "/content/gdrive/MyDrive/PDF_elemzo/NOR_ALL_EVENT_2019021906.pdf\n",
            "\n",
            "/content/gdrive/MyDrive/PDF_elemzo/NOR_ALL_EVENT_2019021822.pdf\n",
            "\n",
            "/content/gdrive/MyDrive/PDF_elemzo/NOR_ALL_EVENT_2019021814.pdf\n",
            "\n",
            "/content/gdrive/MyDrive/PDF_elemzo/NOR_ALL_EVENT_2019022506.pdf\n",
            "\n",
            "/content/gdrive/MyDrive/PDF_elemzo/NOR_ALL_EVENT_2019022422.pdf\n",
            "\n",
            "/content/gdrive/MyDrive/PDF_elemzo/NOR_ALL_EVENT_2019022414.pdf\n",
            "\n",
            "/content/gdrive/MyDrive/PDF_elemzo/NOR_ALL_EVENT_2019022406.pdf\n",
            "\n",
            "/content/gdrive/MyDrive/PDF_elemzo/NOR_ALL_EVENT_2019022322.pdf\n",
            "\n",
            "/content/gdrive/MyDrive/PDF_elemzo/NOR_ALL_EVENT_2019022314.pdf\n",
            "\n",
            "/content/gdrive/MyDrive/PDF_elemzo/NOR_ALL_EVENT_2019022306.pdf\n",
            "\n",
            "/content/gdrive/MyDrive/PDF_elemzo/NOR_ALL_EVENT_2019022222.pdf\n",
            "\n",
            "/content/gdrive/MyDrive/PDF_elemzo/NOR_ALL_EVENT_2019022214.pdf\n",
            "\n",
            "/content/gdrive/MyDrive/PDF_elemzo/NOR_ALL_EVENT_2019022206.pdf\n",
            "\n",
            "/content/gdrive/MyDrive/PDF_elemzo/NOR_ALL_EVENT_2019022122.pdf\n",
            "\n",
            "/content/gdrive/MyDrive/PDF_elemzo/NOR_ALL_EVENT_2019022114.pdf\n",
            "\n",
            "/content/gdrive/MyDrive/PDF_elemzo/NOR_ALL_EVENT_2019022106.pdf\n",
            "\n",
            "/content/gdrive/MyDrive/PDF_elemzo/NOR_ALL_EVENT_2019022022.pdf\n",
            "\n",
            "/content/gdrive/MyDrive/PDF_elemzo/NOR_ALL_EVENT_2019030122.pdf\n",
            "\n",
            "/content/gdrive/MyDrive/PDF_elemzo/NOR_ALL_EVENT_2019030114.pdf\n",
            "\n",
            "/content/gdrive/MyDrive/PDF_elemzo/NOR_ALL_EVENT_2019030106.pdf\n",
            "\n",
            "/content/gdrive/MyDrive/PDF_elemzo/NOR_ALL_EVENT_2019022822.pdf\n",
            "\n",
            "/content/gdrive/MyDrive/PDF_elemzo/NOR_ALL_EVENT_2019022814.pdf\n",
            "\n",
            "/content/gdrive/MyDrive/PDF_elemzo/NOR_ALL_EVENT_2019022806.pdf\n",
            "\n",
            "/content/gdrive/MyDrive/PDF_elemzo/NOR_ALL_EVENT_2019022722.pdf\n",
            "\n",
            "/content/gdrive/MyDrive/PDF_elemzo/NOR_ALL_EVENT_2019022714.pdf\n",
            "\n",
            "/content/gdrive/MyDrive/PDF_elemzo/NOR_ALL_EVENT_2019022706.pdf\n",
            "\n",
            "/content/gdrive/MyDrive/PDF_elemzo/NOR_ALL_EVENT_2019022622.pdf\n",
            "\n",
            "/content/gdrive/MyDrive/PDF_elemzo/NOR_ALL_EVENT_2019022614.pdf\n",
            "\n",
            "/content/gdrive/MyDrive/PDF_elemzo/NOR_ALL_EVENT_2019022606.pdf\n",
            "\n",
            "/content/gdrive/MyDrive/PDF_elemzo/NOR_ALL_EVENT_2019022522.pdf\n",
            "\n",
            "/content/gdrive/MyDrive/PDF_elemzo/NOR_ALL_EVENT_2019022514.pdf\n",
            "\n",
            "/content/gdrive/MyDrive/PDF_elemzo/NOR_ALL_EVENT_2019030614.pdf\n",
            "\n",
            "/content/gdrive/MyDrive/PDF_elemzo/NOR_ALL_EVENT_2019030606.pdf\n",
            "\n",
            "/content/gdrive/MyDrive/PDF_elemzo/NOR_ALL_EVENT_2019030522.pdf\n",
            "\n",
            "/content/gdrive/MyDrive/PDF_elemzo/NOR_ALL_EVENT_2019030514.pdf\n",
            "\n",
            "/content/gdrive/MyDrive/PDF_elemzo/NOR_ALL_EVENT_2019030506.pdf\n",
            "\n",
            "/content/gdrive/MyDrive/PDF_elemzo/NOR_ALL_EVENT_2019030422.pdf\n",
            "\n",
            "/content/gdrive/MyDrive/PDF_elemzo/NOR_ALL_EVENT_2019030414.pdf\n",
            "\n",
            "/content/gdrive/MyDrive/PDF_elemzo/NOR_ALL_EVENT_2019030406.pdf\n",
            "\n",
            "/content/gdrive/MyDrive/PDF_elemzo/NOR_ALL_EVENT_2019030322.pdf\n",
            "\n",
            "/content/gdrive/MyDrive/PDF_elemzo/NOR_ALL_EVENT_2019030314.pdf\n",
            "\n",
            "/content/gdrive/MyDrive/PDF_elemzo/NOR_ALL_EVENT_2019030306.pdf\n",
            "\n",
            "/content/gdrive/MyDrive/PDF_elemzo/NOR_ALL_EVENT_2019030222.pdf\n",
            "\n",
            "/content/gdrive/MyDrive/PDF_elemzo/NOR_ALL_EVENT_2019030214.pdf\n",
            "\n",
            "/content/gdrive/MyDrive/PDF_elemzo/NOR_ALL_EVENT_2019030206.pdf\n",
            "\n",
            "/content/gdrive/MyDrive/PDF_elemzo/NOR_ALL_EVENT_2019031106.pdf\n",
            "\n",
            "/content/gdrive/MyDrive/PDF_elemzo/NOR_ALL_EVENT_2019031022.pdf\n",
            "\n",
            "/content/gdrive/MyDrive/PDF_elemzo/NOR_ALL_EVENT_2019031014.pdf\n",
            "\n",
            "/content/gdrive/MyDrive/PDF_elemzo/NOR_ALL_EVENT_2019031006.pdf\n",
            "\n",
            "/content/gdrive/MyDrive/PDF_elemzo/NOR_ALL_EVENT_2019030922.pdf\n",
            "\n",
            "/content/gdrive/MyDrive/PDF_elemzo/NOR_ALL_EVENT_2019030914.pdf\n",
            "\n",
            "/content/gdrive/MyDrive/PDF_elemzo/NOR_ALL_EVENT_2019030906.pdf\n",
            "\n",
            "/content/gdrive/MyDrive/PDF_elemzo/NOR_ALL_EVENT_2019030822.pdf\n",
            "\n",
            "/content/gdrive/MyDrive/PDF_elemzo/NOR_ALL_EVENT_2019030814.pdf\n",
            "\n",
            "/content/gdrive/MyDrive/PDF_elemzo/NOR_ALL_EVENT_2019030806.pdf\n",
            "\n",
            "/content/gdrive/MyDrive/PDF_elemzo/NOR_ALL_EVENT_2019030722.pdf\n",
            "\n",
            "/content/gdrive/MyDrive/PDF_elemzo/NOR_ALL_EVENT_2019030714.pdf\n",
            "\n",
            "/content/gdrive/MyDrive/PDF_elemzo/NOR_ALL_EVENT_2019030706.pdf\n",
            "\n",
            "/content/gdrive/MyDrive/PDF_elemzo/NOR_ALL_EVENT_2019030622.pdf\n",
            "\n",
            "/content/gdrive/MyDrive/PDF_elemzo/NOR_ALL_EVENT_2019031614.pdf\n",
            "\n",
            "/content/gdrive/MyDrive/PDF_elemzo/NOR_ALL_EVENT_2019031606.pdf\n",
            "\n",
            "/content/gdrive/MyDrive/PDF_elemzo/NOR_ALL_EVENT_2019031522.pdf\n",
            "\n",
            "/content/gdrive/MyDrive/PDF_elemzo/NOR_ALL_EVENT_2019031514.pdf\n",
            "\n",
            "/content/gdrive/MyDrive/PDF_elemzo/NOR_ALL_EVENT_2019031506.pdf\n",
            "\n",
            "/content/gdrive/MyDrive/PDF_elemzo/NOR_ALL_EVENT_2019031422.pdf\n",
            "\n",
            "/content/gdrive/MyDrive/PDF_elemzo/NOR_ALL_EVENT_2019031414.pdf\n",
            "\n",
            "/content/gdrive/MyDrive/PDF_elemzo/NOR_ALL_EVENT_2019031406.pdf\n",
            "\n",
            "/content/gdrive/MyDrive/PDF_elemzo/NOR_ALL_EVENT_2019031322.pdf\n",
            "\n",
            "/content/gdrive/MyDrive/PDF_elemzo/NOR_ALL_EVENT_2019031314.pdf\n",
            "\n",
            "/content/gdrive/MyDrive/PDF_elemzo/NOR_ALL_EVENT_2019031306.pdf\n",
            "\n",
            "/content/gdrive/MyDrive/PDF_elemzo/NOR_ALL_EVENT_2019031222.pdf\n",
            "\n",
            "/content/gdrive/MyDrive/PDF_elemzo/NOR_ALL_EVENT_2019031214.pdf\n",
            "\n",
            "/content/gdrive/MyDrive/PDF_elemzo/NOR_ALL_EVENT_2019031206.pdf\n",
            "\n",
            "/content/gdrive/MyDrive/PDF_elemzo/NOR_ALL_EVENT_2019031122.pdf\n",
            "\n"
          ]
        }
      ]
    },
    {
      "cell_type": "code",
      "source": [
        "fname=fnamedir+\"/\"+\"NOR_ALL_EVENT_2020010206.pdf\""
      ],
      "metadata": {
        "id": "BbtiAkvrpMXj"
      },
      "execution_count": 21,
      "outputs": []
    },
    {
      "cell_type": "code",
      "source": [
        "text=\"\""
      ],
      "metadata": {
        "id": "TuX0yi0Pppwb"
      },
      "execution_count": 22,
      "outputs": []
    },
    {
      "cell_type": "code",
      "source": [
        "doc = pymupdf.open(fname) # open a document\n",
        "for page in doc: # iterate the document pages\n",
        "  text = text+page.get_text() # get plain text encoded as UTF-8\n"
      ],
      "metadata": {
        "id": "sFtQ3D_XsXJ-"
      },
      "execution_count": 23,
      "outputs": []
    },
    {
      "cell_type": "code",
      "source": [
        "len(text)"
      ],
      "metadata": {
        "colab": {
          "base_uri": "https://localhost:8080/"
        },
        "id": "PkV7b0MZsi5Z",
        "outputId": "19774f81-a1e9-4f2a-ff1b-4128f981b514"
      },
      "execution_count": 25,
      "outputs": [
        {
          "output_type": "execute_result",
          "data": {
            "text/plain": [
              "898683"
            ]
          },
          "metadata": {},
          "execution_count": 25
        }
      ]
    },
    {
      "cell_type": "code",
      "source": [
        "text.find(\"Scheduler\",1)"
      ],
      "metadata": {
        "colab": {
          "base_uri": "https://localhost:8080/"
        },
        "id": "q9VvqMhBt3og",
        "outputId": "a268ebf3-2840-42bd-bd0c-323e5b429e4d"
      },
      "execution_count": 30,
      "outputs": [
        {
          "output_type": "execute_result",
          "data": {
            "text/plain": [
              "11286"
            ]
          },
          "metadata": {},
          "execution_count": 30
        }
      ]
    }
  ]
}